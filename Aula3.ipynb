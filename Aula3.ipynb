{
  "nbformat": 4,
  "nbformat_minor": 0,
  "metadata": {
    "colab": {
      "provenance": [],
      "authorship_tag": "ABX9TyOVF3AH+Xicq9QU7em6Jxi6",
      "include_colab_link": true
    },
    "kernelspec": {
      "name": "python3",
      "display_name": "Python 3"
    },
    "language_info": {
      "name": "python"
    }
  },
  "cells": [
    {
      "cell_type": "markdown",
      "metadata": {
        "id": "view-in-github",
        "colab_type": "text"
      },
      "source": [
        "<a href=\"https://colab.research.google.com/github/Lucasmarcal25/Lucasmarcal25/blob/main/Aula3.ipynb\" target=\"_parent\"><img src=\"https://colab.research.google.com/assets/colab-badge.svg\" alt=\"Open In Colab\"/></a>"
      ]
    },
    {
      "cell_type": "code",
      "execution_count": null,
      "metadata": {
        "colab": {
          "base_uri": "https://localhost:8080/"
        },
        "id": "DDAAIa817n9h",
        "outputId": "9dcd86dc-5c17-404d-e174-c092d6c87143"
      },
      "outputs": [
        {
          "output_type": "stream",
          "name": "stdout",
          "text": [
            "Insira seu login:lucassam44@gmail.com\n",
            "Insira sua senha:24063032\n",
            "Seu login foi relizado com sucesso\n"
          ]
        }
      ],
      "source": [
        "\n",
        "login=input(\"Insira seu login:\")\n",
        "senha=input(\"Insira sua senha:\")\n",
        "if login == \"login\" and senha == \"senha\":\n",
        " print(\"Seu login foi relizado com sucesso\")\n",
        "else:\n",
        " print(\"Dados Incorretos\")"
      ]
    },
    {
      "cell_type": "code",
      "source": [
        "\n",
        "login=input(\"Insira seu login:\")\n",
        "senha=input(\"Insira sua senha:\")\n",
        "if login == \"login\":\n",
        "  if senha == \"senha\" :\n",
        "    print(\"Login realizado com sucesso\")\n",
        "  else:\n",
        "   print(\"Login Incorreto!!!\")\n",
        "else:\n",
        " print(\"Login Incorreto!!!\")\n",
        "\n"
      ],
      "metadata": {
        "colab": {
          "base_uri": "https://localhost:8080/"
        },
        "id": "Z8OAHrPwEEwr",
        "outputId": "5f2562a8-9fea-4775-c898-970414843418"
      },
      "execution_count": null,
      "outputs": [
        {
          "output_type": "stream",
          "name": "stdout",
          "text": [
            "Insira seu login:login\n",
            "Insira sua senha:senha\n",
            "Seu login foi relizado com sucesso\n"
          ]
        }
      ]
    },
    {
      "cell_type": "code",
      "source": [
        "# Login e Senha para o acesso ao cadastro\n",
        "login=input(\"Insira seu login:\")\n",
        "senha=input(\"Insira sua senha:\")\n",
        "if login == \"login\":\n",
        " if  senha ==\"senha\":\n",
        "  nome = input(\"Qual é seu nome?\")\n",
        "  idade= input(\"Qual é a sua idade\")\n",
        "  sexo= input(\"Qual o seu sexo?\")\n",
        "  endereço= input(\"Qual é o seu endereço?\")\n",
        "  arquivo=open(\"Cadastro.txt\",\"a\")\n",
        "  print(sexo,file=arquivo)\n",
        "  print(idade,file=arquivo)\n",
        "  print(nome,file=arquivo)\n",
        "  print(endereço,file=arquivo)\n",
        "   arquivo.close()\n",
        " else\n",
        "\n",
        "\n",
        "\n",
        "\n",
        "\n"
      ],
      "metadata": {
        "id": "yVP927pjH29X"
      },
      "execution_count": null,
      "outputs": []
    },
    {
      "cell_type": "code",
      "source": [
        "temperaturaMedia =[]\n",
        "temperaturaMedia.append(31.9)\n",
        "temperaturaMedia.append(35.4)\n",
        "temperaturaMedia.append(26.4)\n",
        "temperaturaMedia.append(24.3)\n",
        "temperaturaMedia.append(22.9)\n",
        "\n",
        "for i in temperaturaMedia:\n",
        "  print(i)\n"
      ],
      "metadata": {
        "colab": {
          "base_uri": "https://localhost:8080/"
        },
        "id": "TdTnMgGGH1p8",
        "outputId": "1fd16641-fea3-41d0-ec19-574f41c9f1ff"
      },
      "execution_count": null,
      "outputs": [
        {
          "output_type": "stream",
          "name": "stdout",
          "text": [
            "31.9\n",
            "35.4\n",
            "26.4\n",
            "24.3\n",
            "22.9\n"
          ]
        }
      ]
    }
  ]
}