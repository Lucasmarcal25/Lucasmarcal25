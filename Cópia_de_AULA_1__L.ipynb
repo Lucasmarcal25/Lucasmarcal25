{
  "nbformat": 4,
  "nbformat_minor": 0,
  "metadata": {
    "colab": {
      "provenance": [],
      "authorship_tag": "ABX9TyODDCNeKAC9fSkAqNJEwMi1",
      "include_colab_link": true
    },
    "kernelspec": {
      "name": "python3",
      "display_name": "Python 3"
    },
    "language_info": {
      "name": "python"
    }
  },
  "cells": [
    {
      "cell_type": "markdown",
      "metadata": {
        "id": "view-in-github",
        "colab_type": "text"
      },
      "source": [
        "<a href=\"https://colab.research.google.com/github/Lucasmarcal25/Lucasmarcal25/blob/main/C%C3%B3pia_de_AULA_1__L.ipynb\" target=\"_parent\"><img src=\"https://colab.research.google.com/assets/colab-badge.svg\" alt=\"Open In Colab\"/></a>"
      ]
    },
    {
      "cell_type": "code",
      "execution_count": null,
      "metadata": {
        "id": "u_la21poyfQx",
        "colab": {
          "base_uri": "https://localhost:8080/"
        },
        "outputId": "f07d4031-8cd1-4e12-eee7-8448ef266928"
      },
      "outputs": [
        {
          "output_type": "stream",
          "name": "stdout",
          "text": [
            "  Digite seu nome: veronica\n",
            "veronica\n",
            "Oláveronica,seja bem vindo ao curso\n"
          ]
        }
      ],
      "source": [
        "nome= input(\"  Digite seu nome: \")\n",
        "print(nome)\n",
        "print (\"Olá\"  + nome + \",seja bem vindo ao curso\"  )"
      ]
    },
    {
      "cell_type": "code",
      "source": [
        "v1=16\n",
        "v2=24\n",
        "print (v1 + v2)"
      ],
      "metadata": {
        "id": "5ymMYleb8bdx",
        "colab": {
          "base_uri": "https://localhost:8080/"
        },
        "outputId": "daf9e9d3-ef39-4440-9a05-cdcdc476957a"
      },
      "execution_count": null,
      "outputs": [
        {
          "output_type": "stream",
          "name": "stdout",
          "text": [
            "40\n"
          ]
        }
      ]
    },
    {
      "cell_type": "code",
      "source": [
        "n1=int(input(\"Digite um número:\"))\n",
        "n2=int(input(\"Digite um número\"))\n",
        "print (n1 * n2)"
      ],
      "metadata": {
        "id": "0puZlvMD9HZq"
      },
      "execution_count": null,
      "outputs": []
    },
    {
      "cell_type": "code",
      "source": [
        "nome = input(\"Qual é seu nome?\")\n",
        "sexo= input(\"Qual é o seu sexo?\")\n",
        "endereço= input(\"Qual é o seu endereço?\")\n",
        "data=int(input(\"Digite sua idade\"))\n",
        "print('seu nome é' +nome+'do sexo'+sexo+ \"mora na\" +endereço+ \"e tem\" ,data,\"idade\")"
      ],
      "metadata": {
        "colab": {
          "base_uri": "https://localhost:8080/"
        },
        "id": "yzTdWib4B0tl",
        "outputId": "4a63bcb2-4eca-4cb0-aee4-09ebb2f734c2"
      },
      "execution_count": null,
      "outputs": [
        {
          "output_type": "stream",
          "name": "stdout",
          "text": [
            "Qual é seu nome?anna\n",
            "Qual é o seu sexo?f\n",
            "Qual é o seu endereço?rua c\n",
            "Digite sua idade20\n",
            "seu nome éannado sexofmora narua ce tem 20 idade\n"
          ]
        }
      ]
    }
  ]
}